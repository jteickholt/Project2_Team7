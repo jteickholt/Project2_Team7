{
 "cells": [
  {
   "cell_type": "markdown",
   "metadata": {},
   "source": [
    "# Weather Data\n",
    "\n",
    "* Go to https://www.usclimatedata.com/\n"
   ]
  },
  {
   "cell_type": "code",
   "execution_count": 7,
   "metadata": {},
   "outputs": [],
   "source": [
    "from splinter import Browser\n",
    "from splinter.exceptions import ElementDoesNotExist\n",
    "from bs4 import BeautifulSoup"
   ]
  },
  {
   "cell_type": "code",
   "execution_count": 8,
   "metadata": {},
   "outputs": [],
   "source": [
    "import pandas as pd\n",
    "import time"
   ]
  },
  {
   "cell_type": "code",
   "execution_count": 9,
   "metadata": {},
   "outputs": [],
   "source": [
    "#pip install bs4 pandas splinter"
   ]
  },
  {
   "cell_type": "code",
   "execution_count": 10,
   "metadata": {},
   "outputs": [],
   "source": [
    "#pip install pandas\n"
   ]
  },
  {
   "cell_type": "markdown",
   "metadata": {},
   "source": [
    "### Windows Users\n",
    "\n",
    "Windows users will need to store the `chromedriver.exe` file in the same location as this _.ipynb_ file, or they will need to provide the path to the executable."
   ]
  },
  {
   "cell_type": "code",
   "execution_count": 11,
   "metadata": {},
   "outputs": [],
   "source": [
    "# identify location of chromedriver and store it as a variable\n",
    "driverPath = 'c:/apps/chromedriver/chromedriver.exe'\n",
    "\n",
    "# Setup configuration variables to enable Splinter to interact with browser\n",
    "executable_path = {'executable_path': driverPath}\n",
    "browser = Browser('chrome', **executable_path, headless=False)"
   ]
  },
  {
   "cell_type": "markdown",
   "metadata": {},
   "source": [
    "### Define URL to scrape and inform the browser to visit the page"
   ]
  },
  {
   "cell_type": "code",
   "execution_count": 12,
   "metadata": {},
   "outputs": [],
   "source": [
    "url = 'https://www.usclimatedata.com/'\n",
    "browser.visit(url)"
   ]
  },
  {
   "cell_type": "markdown",
   "metadata": {},
   "source": [
    "### Capture the weathe data by State with associated URLs"
   ]
  },
  {
   "cell_type": "code",
   "execution_count": 13,
   "metadata": {},
   "outputs": [],
   "source": [
    "html = browser.html\n",
    "soup = BeautifulSoup(html, 'html.parser')\n"
   ]
  },
  {
   "cell_type": "code",
   "execution_count": 14,
   "metadata": {},
   "outputs": [],
   "source": [
    "#print(html)"
   ]
  },
  {
   "cell_type": "code",
   "execution_count": 15,
   "metadata": {},
   "outputs": [],
   "source": [
    "states = soup.find_all('a', class_=\"province\")"
   ]
  },
  {
   "cell_type": "code",
   "execution_count": 16,
   "metadata": {},
   "outputs": [
    {
     "data": {
      "text/plain": [
       "[<a class=\"province\" href=\"/climate/alabama/united-states/3170\" title=\"Climate Alabama\">Alabama</a>,\n",
       " <a class=\"province\" href=\"/climate/kentucky/united-states/3187\" title=\"Climate Kentucky\">Kentucky</a>,\n",
       " <a class=\"province\" href=\"/climate/north-dakota/united-states/3204\" title=\"Climate North Dakota\">North Dakota</a>,\n",
       " <a class=\"province\" href=\"/climate/alaska/united-states/3171\" title=\"Climate Alaska\">Alaska</a>,\n",
       " <a class=\"province\" href=\"/climate/louisiana/united-states/3188\" title=\"Climate Louisiana\">Louisiana</a>,\n",
       " <a class=\"province\" href=\"/climate/ohio/united-states/3205\" title=\"Climate Ohio\">Ohio</a>,\n",
       " <a class=\"province\" href=\"/climate/arizona/united-states/3172\" title=\"Climate Arizona\">Arizona</a>,\n",
       " <a class=\"province\" href=\"/climate/maine/united-states/3189\" title=\"Climate Maine\">Maine</a>,\n",
       " <a class=\"province\" href=\"/climate/oklahoma/united-states/3206\" title=\"Climate Oklahoma\">Oklahoma</a>,\n",
       " <a class=\"province\" href=\"/climate/arkansas/united-states/3173\" title=\"Climate Arkansas\">Arkansas</a>,\n",
       " <a class=\"province\" href=\"/climate/maryland/united-states/1872\" title=\"Climate Maryland\">Maryland</a>,\n",
       " <a class=\"province\" href=\"/climate/oregon/united-states/3207\" title=\"Climate Oregon\">Oregon</a>,\n",
       " <a class=\"province\" href=\"/climate/california/united-states/3174\" title=\"Climate California\">California</a>,\n",
       " <a class=\"province\" href=\"/climate/massachusetts/united-states/3191\" title=\"Climate Massachusetts\">Massachusetts</a>,\n",
       " <a class=\"province\" href=\"/climate/pennsylvania/united-states/3208\" title=\"Climate Pennsylvania\">Pennsylvania</a>,\n",
       " <a class=\"province\" href=\"/climate/colorado/united-states/3175\" title=\"Climate Colorado\">Colorado</a>,\n",
       " <a class=\"province\" href=\"/climate/michigan/united-states/3192\" title=\"Climate Michigan\">Michigan</a>,\n",
       " <a class=\"province\" href=\"/climate/rhode-island/united-states/3209\" title=\"Climate Rhode Island\">Rhode Island</a>,\n",
       " <a class=\"province\" href=\"/climate/connecticut/united-states/3176\" title=\"Climate Connecticut\">Connecticut</a>,\n",
       " <a class=\"province\" href=\"/climate/minnesota/united-states/3193\" title=\"Climate Minnesota\">Minnesota</a>,\n",
       " <a class=\"province\" href=\"/climate/south-carolina/united-states/3210\" title=\"Climate South Carolina\">South Carolina</a>,\n",
       " <a class=\"province\" href=\"/climate/delaware/united-states/3177\" title=\"Climate Delaware\">Delaware</a>,\n",
       " <a class=\"province\" href=\"/climate/mississippi/united-states/3194\" title=\"Climate Mississippi\">Mississippi</a>,\n",
       " <a class=\"province\" href=\"/climate/south-dakota/united-states/3211\" title=\"Climate South Dakota\">South Dakota</a>,\n",
       " <a class=\"province\" href=\"/climate/district-of-columbia/united-states/3178\" title=\"Climate District of Columbia\">District of Columbia</a>,\n",
       " <a class=\"province\" href=\"/climate/missouri/united-states/3195\" title=\"Climate Missouri\">Missouri</a>,\n",
       " <a class=\"province\" href=\"/climate/tennessee/united-states/3212\" title=\"Climate Tennessee\">Tennessee</a>,\n",
       " <a class=\"province\" href=\"/climate/florida/united-states/3179\" title=\"Climate Florida\">Florida</a>,\n",
       " <a class=\"province\" href=\"/climate/montana/united-states/919\" title=\"Climate Montana\">Montana</a>,\n",
       " <a class=\"province\" href=\"/climate/texas/united-states/3213\" title=\"Climate Texas\">Texas</a>,\n",
       " <a class=\"province\" href=\"/climate/georgia/united-states/3180\" title=\"Climate Georgia\">Georgia</a>,\n",
       " <a class=\"province\" href=\"/climate/nebraska/united-states/3197\" title=\"Climate Nebraska\">Nebraska</a>,\n",
       " <a class=\"province\" href=\"/climate/utah/united-states/3214\" title=\"Climate Utah\">Utah</a>,\n",
       " <a class=\"province\" href=\"/climate/hawaii/united-states/3181\" title=\"Climate Hawaii\">Hawaii</a>,\n",
       " <a class=\"province\" href=\"/climate/nevada/united-states/3198\" title=\"Climate Nevada\">Nevada</a>,\n",
       " <a class=\"province\" href=\"/climate/vermont/united-states/3215\" title=\"Climate Vermont\">Vermont</a>,\n",
       " <a class=\"province\" href=\"/climate/idaho/united-states/3182\" title=\"Climate Idaho\">Idaho</a>,\n",
       " <a class=\"province\" href=\"/climate/new-hampshire/united-states/3199\" title=\"Climate New Hampshire\">New Hampshire</a>,\n",
       " <a class=\"province\" href=\"/climate/virginia/united-states/3216\" title=\"Climate Virginia\">Virginia</a>,\n",
       " <a class=\"province\" href=\"/climate/illinois/united-states/3183\" title=\"Climate Illinois\">Illinois</a>,\n",
       " <a class=\"province\" href=\"/climate/new-jersey/united-states/3200\" title=\"Climate New Jersey\">New Jersey</a>,\n",
       " <a class=\"province\" href=\"/climate/washington/united-states/3217\" title=\"Climate Washington\">Washington</a>,\n",
       " <a class=\"province\" href=\"/climate/indiana/united-states/3184\" title=\"Climate Indiana\">Indiana</a>,\n",
       " <a class=\"province\" href=\"/climate/new-mexico/united-states/3201\" title=\"Climate New Mexico\">New Mexico</a>,\n",
       " <a class=\"province\" href=\"/climate/west-virginia/united-states/3218\" title=\"Climate West Virginia\">West Virginia</a>,\n",
       " <a class=\"province\" href=\"/climate/iowa/united-states/3185\" title=\"Climate Iowa\">Iowa</a>,\n",
       " <a class=\"province\" href=\"/climate/new-york/united-states/3202\" title=\"Climate New York\">New York</a>,\n",
       " <a class=\"province\" href=\"/climate/wisconsin/united-states/3219\" title=\"Climate Wisconsin\">Wisconsin</a>,\n",
       " <a class=\"province\" href=\"/climate/kansas/united-states/3186\" title=\"Climate Kansas\">Kansas</a>,\n",
       " <a class=\"province\" href=\"/climate/north-carolina/united-states/3203\" title=\"Climate North Carolina\">North Carolina</a>,\n",
       " <a class=\"province\" href=\"/climate/wyoming/united-states/3220\" title=\"Climate Wyoming\">Wyoming</a>]"
      ]
     },
     "execution_count": 16,
     "metadata": {},
     "output_type": "execute_result"
    }
   ],
   "source": [
    "states"
   ]
  },
  {
   "cell_type": "markdown",
   "metadata": {},
   "source": [
    "#### Create a function that takes in a URL and captures one State\n"
   ]
  },
  {
   "cell_type": "code",
   "execution_count": 22,
   "metadata": {},
   "outputs": [],
   "source": [
    "stateurl = 'https://www.usclimatedata.com//climate/kentucky/united-states/3187'\n",
    "browser.visit(stateurl)"
   ]
  },
  {
   "cell_type": "code",
   "execution_count": 23,
   "metadata": {},
   "outputs": [],
   "source": [
    "htmlstate = browser.html\n",
    "soupState = BeautifulSoup(htmlstate, 'html.parser')"
   ]
  },
  {
   "cell_type": "code",
   "execution_count": 24,
   "metadata": {},
   "outputs": [],
   "source": [
    "# climate_table = soupState.find_one('div', class_='climate_table')\n",
    "climate_table = soupState.find('div', id='climate_table')"
   ]
  },
  {
   "cell_type": "code",
   "execution_count": 25,
   "metadata": {},
   "outputs": [
    {
     "data": {
      "text/plain": [
       "<div id=\"climate_table\">\n",
       "<table><tbody><tr><th> </th><th class=\"climate_table_data_td\">Jan</th><th class=\"climate_table_data_td\">Feb</th><th class=\"climate_table_data_td\">Mar</th><th class=\"climate_table_data_td\">Apr</th><th class=\"climate_table_data_td\">May</th><th class=\"climate_table_data_td\">Jun</th></tr><tr><td class=\"climate_table_info\">Average high in <span class=\"system\">°F</span>:</td><td class=\"align_right temperature_red\">40</td><td class=\"align_right temperature_red\">45</td><td class=\"align_right temperature_red\">55</td><td class=\"align_right temperature_red\">66</td><td class=\"align_right temperature_red\">75</td><td class=\"align_right temperature_red\">83</td></tr><tr><td class=\"climate_table_info\">Average low in <span class=\"system\">°F</span>:</td><td class=\"align_right temperature_blue\">21</td><td class=\"align_right temperature_blue\">23</td><td class=\"align_right temperature_blue\">31</td><td class=\"align_right temperature_blue\">39</td><td class=\"align_right temperature_blue\">49</td><td class=\"align_right temperature_blue\">59</td></tr><tr><td class=\"climate_table_info\">Av. precipitation in <span class=\"precip_system\">inch</span>:</td><td class=\"align_right\">3.15</td><td class=\"align_right\">3.07</td><td class=\"align_right\">4.06</td><td class=\"align_right\">3.66</td><td class=\"align_right\">4.61</td><td class=\"align_right\">4.41</td></tr><tr><td class=\"climate_table_info\">Days with precipitation:</td><td class=\"align_right\">-</td><td class=\"align_right\">-</td><td class=\"align_right\">-</td><td class=\"align_right\">-</td><td class=\"align_right\">-</td><td class=\"align_right\">-</td></tr><tr><td class=\"climate_table_info\">Hours of sunshine:</td><td class=\"align_right\">-</td><td class=\"align_right\">-</td><td class=\"align_right\">-</td><td class=\"align_right\">-</td><td class=\"align_right\">-</td><td class=\"align_right\">-</td></tr></tbody></table><table class=\"climate_table_margin_top\"><tbody><tr><th> </th><th class=\"climate_table_data_td\">Jul</th><th class=\"climate_table_data_td\">Aug</th><th class=\"climate_table_data_td\">Sep</th><th class=\"climate_table_data_td\">Oct</th><th class=\"climate_table_data_td\">Nov</th><th class=\"climate_table_data_td\">Dec</th></tr><tr><td class=\"climate_table_info\">Average high in <span class=\"system\">°F</span>:</td><td class=\"align_right temperature_red\">87</td><td class=\"align_right temperature_red\">86</td><td class=\"align_right temperature_red\">79</td><td class=\"align_right temperature_red\">68</td><td class=\"align_right temperature_red\">55</td><td class=\"align_right temperature_red\">44</td></tr><tr><td class=\"climate_table_info\">Average low in <span class=\"system\">°F</span>:</td><td class=\"align_right temperature_blue\">63</td><td class=\"align_right temperature_blue\">62</td><td class=\"align_right temperature_blue\">55</td><td class=\"align_right temperature_blue\">42</td><td class=\"align_right temperature_blue\">34</td><td class=\"align_right temperature_blue\">26</td></tr><tr><td class=\"climate_table_info\">Av. precipitation in <span class=\"precip_system\">inch</span>:</td><td class=\"align_right\">4.17</td><td class=\"align_right\">3.58</td><td class=\"align_right\">3.15</td><td class=\"align_right\">2.68</td><td class=\"align_right\">3.35</td><td class=\"align_right\">3.7</td></tr><tr><td class=\"climate_table_info\">Days with precipitation:</td><td class=\"align_right\">-</td><td class=\"align_right\">-</td><td class=\"align_right\">-</td><td class=\"align_right\">-</td><td class=\"align_right\">-</td><td class=\"align_right\">-</td></tr><tr><td class=\"climate_table_info\">Hours of sunshine:</td><td class=\"align_right\">-</td><td class=\"align_right\">-</td><td class=\"align_right\">-</td><td class=\"align_right\">-</td><td class=\"align_right\">-</td><td class=\"align_right\">-</td></tr></tbody></table> </div>"
      ]
     },
     "execution_count": 25,
     "metadata": {},
     "output_type": "execute_result"
    }
   ],
   "source": [
    "climate_table"
   ]
  },
  {
   "cell_type": "code",
   "execution_count": 26,
   "metadata": {},
   "outputs": [],
   "source": [
    "tables = climate_table.find_all('table')"
   ]
  },
  {
   "cell_type": "code",
   "execution_count": 27,
   "metadata": {},
   "outputs": [
    {
     "data": {
      "text/plain": [
       "[<td class=\"climate_table_info\">Average high in <span class=\"system\">°F</span>:</td>,\n",
       " <td class=\"align_right temperature_red\">40</td>,\n",
       " <td class=\"align_right temperature_red\">45</td>,\n",
       " <td class=\"align_right temperature_red\">55</td>,\n",
       " <td class=\"align_right temperature_red\">66</td>,\n",
       " <td class=\"align_right temperature_red\">75</td>,\n",
       " <td class=\"align_right temperature_red\">83</td>]"
      ]
     },
     "execution_count": 27,
     "metadata": {},
     "output_type": "execute_result"
    }
   ],
   "source": [
    "tables[0].find_all('tr')[1].find_all('td')"
   ]
  },
  {
   "cell_type": "code",
   "execution_count": 28,
   "metadata": {},
   "outputs": [
    {
     "data": {
      "text/plain": [
       "['40', '45', '55', '66', '75', '83']"
      ]
     },
     "execution_count": 28,
     "metadata": {},
     "output_type": "execute_result"
    }
   ],
   "source": [
    "avg_high = []\n",
    "indx = 0\n",
    "for td in tables[0].find_all('tr')[1].find_all('td'):\n",
    "    if (indx > 0):\n",
    "        temp_high = td.text\n",
    "        avg_high.append(temp_high)\n",
    "    indx = indx + 1\n",
    "avg_high"
   ]
  },
  {
   "cell_type": "code",
   "execution_count": 29,
   "metadata": {},
   "outputs": [
    {
     "data": {
      "text/plain": [
       "['21', '23', '31', '39', '49', '59']"
      ]
     },
     "execution_count": 29,
     "metadata": {},
     "output_type": "execute_result"
    }
   ],
   "source": [
    "avg_low = []\n",
    "indx = 0\n",
    "for td in tables[0].find_all('tr')[2].find_all('td'):\n",
    "    if (indx > 0):\n",
    "        temp_low = td.text\n",
    "        avg_low.append(temp_low)\n",
    "    indx = indx + 1\n",
    "avg_low"
   ]
  },
  {
   "cell_type": "code",
   "execution_count": 30,
   "metadata": {},
   "outputs": [
    {
     "data": {
      "text/plain": [
       "['40', '45', '55', '66', '75', '83', '87', '86', '79', '68', '55', '44']"
      ]
     },
     "execution_count": 30,
     "metadata": {},
     "output_type": "execute_result"
    }
   ],
   "source": [
    "indx = 0\n",
    "for td in tables[1].find_all('tr')[1].find_all('td'):\n",
    "    if (indx > 0):\n",
    "        temp_high = td.text\n",
    "        avg_high.append(temp_high)\n",
    "    indx = indx + 1\n",
    "avg_high"
   ]
  },
  {
   "cell_type": "code",
   "execution_count": 31,
   "metadata": {},
   "outputs": [
    {
     "data": {
      "text/plain": [
       "['21', '23', '31', '39', '49', '59', '63', '62', '55', '42', '34', '26']"
      ]
     },
     "execution_count": 31,
     "metadata": {},
     "output_type": "execute_result"
    }
   ],
   "source": [
    "indx = 0\n",
    "for td in tables[1].find_all('tr')[2].find_all('td'):\n",
    "    if (indx > 0):\n",
    "        temp_low = td.text\n",
    "        avg_low.append(temp_low)\n",
    "    indx = indx + 1\n",
    "avg_low"
   ]
  },
  {
   "cell_type": "code",
   "execution_count": 32,
   "metadata": {},
   "outputs": [
    {
     "data": {
      "text/plain": [
       "['3.15',\n",
       " '3.07',\n",
       " '4.06',\n",
       " '3.66',\n",
       " '4.61',\n",
       " '4.41',\n",
       " '4.17',\n",
       " '3.58',\n",
       " '3.15',\n",
       " '2.68',\n",
       " '3.35',\n",
       " '3.7']"
      ]
     },
     "execution_count": 32,
     "metadata": {},
     "output_type": "execute_result"
    }
   ],
   "source": [
    "avg_prec = []\n",
    "indx = 0\n",
    "for td in tables[0].find_all('tr')[3].find_all('td'):\n",
    "    if (indx > 0):\n",
    "        prec = td.text\n",
    "        avg_prec.append(prec)\n",
    "    indx = indx + 1\n",
    "indx = 0\n",
    "for td in tables[1].find_all('tr')[3].find_all('td'):\n",
    "    if (indx > 0):\n",
    "        prec = td.text\n",
    "        avg_prec.append(prec)\n",
    "    indx = indx + 1\n",
    "avg_prec\n"
   ]
  },
  {
   "cell_type": "code",
   "execution_count": 33,
   "metadata": {},
   "outputs": [
    {
     "data": {
      "text/plain": [
       "['Jan',\n",
       " 'Feb',\n",
       " 'Mar',\n",
       " 'Apr',\n",
       " 'May',\n",
       " 'Jun',\n",
       " 'Jul',\n",
       " 'Aug',\n",
       " 'Sep',\n",
       " 'Oct',\n",
       " 'Nov',\n",
       " 'Dec']"
      ]
     },
     "execution_count": 33,
     "metadata": {},
     "output_type": "execute_result"
    }
   ],
   "source": [
    "arr_month = []\n",
    "indx = 0\n",
    "for td in tables[0].find_all('tr')[0].find_all('th'):\n",
    "    if (indx > 0):\n",
    "        mont = td.text\n",
    "        arr_month.append(mont)\n",
    "    indx = indx + 1\n",
    "indx = 0\n",
    "for td in tables[1].find_all('tr')[0].find_all('th'):\n",
    "    if (indx > 0):\n",
    "        mont = td.text\n",
    "        arr_month.append(mont)\n",
    "    indx = indx + 1\n",
    "arr_month\n"
   ]
  },
  {
   "cell_type": "code",
   "execution_count": 34,
   "metadata": {},
   "outputs": [
    {
     "data": {
      "text/html": [
       "<div>\n",
       "<style scoped>\n",
       "    .dataframe tbody tr th:only-of-type {\n",
       "        vertical-align: middle;\n",
       "    }\n",
       "\n",
       "    .dataframe tbody tr th {\n",
       "        vertical-align: top;\n",
       "    }\n",
       "\n",
       "    .dataframe thead th {\n",
       "        text-align: right;\n",
       "    }\n",
       "</style>\n",
       "<table border=\"1\" class=\"dataframe\">\n",
       "  <thead>\n",
       "    <tr style=\"text-align: right;\">\n",
       "      <th></th>\n",
       "      <th>name</th>\n",
       "      <th>avg_high</th>\n",
       "      <th>avg_low</th>\n",
       "      <th>avg_prec</th>\n",
       "      <th>Month</th>\n",
       "    </tr>\n",
       "  </thead>\n",
       "  <tbody>\n",
       "    <tr>\n",
       "      <td>0</td>\n",
       "      <td>Kentucky</td>\n",
       "      <td>40</td>\n",
       "      <td>21</td>\n",
       "      <td>3.15</td>\n",
       "      <td>Jan</td>\n",
       "    </tr>\n",
       "    <tr>\n",
       "      <td>1</td>\n",
       "      <td>Kentucky</td>\n",
       "      <td>45</td>\n",
       "      <td>23</td>\n",
       "      <td>3.07</td>\n",
       "      <td>Feb</td>\n",
       "    </tr>\n",
       "    <tr>\n",
       "      <td>2</td>\n",
       "      <td>Kentucky</td>\n",
       "      <td>55</td>\n",
       "      <td>31</td>\n",
       "      <td>4.06</td>\n",
       "      <td>Mar</td>\n",
       "    </tr>\n",
       "    <tr>\n",
       "      <td>3</td>\n",
       "      <td>Kentucky</td>\n",
       "      <td>66</td>\n",
       "      <td>39</td>\n",
       "      <td>3.66</td>\n",
       "      <td>Apr</td>\n",
       "    </tr>\n",
       "    <tr>\n",
       "      <td>4</td>\n",
       "      <td>Kentucky</td>\n",
       "      <td>75</td>\n",
       "      <td>49</td>\n",
       "      <td>4.61</td>\n",
       "      <td>May</td>\n",
       "    </tr>\n",
       "    <tr>\n",
       "      <td>5</td>\n",
       "      <td>Kentucky</td>\n",
       "      <td>83</td>\n",
       "      <td>59</td>\n",
       "      <td>4.41</td>\n",
       "      <td>Jun</td>\n",
       "    </tr>\n",
       "    <tr>\n",
       "      <td>6</td>\n",
       "      <td>Kentucky</td>\n",
       "      <td>87</td>\n",
       "      <td>63</td>\n",
       "      <td>4.17</td>\n",
       "      <td>Jul</td>\n",
       "    </tr>\n",
       "    <tr>\n",
       "      <td>7</td>\n",
       "      <td>Kentucky</td>\n",
       "      <td>86</td>\n",
       "      <td>62</td>\n",
       "      <td>3.58</td>\n",
       "      <td>Aug</td>\n",
       "    </tr>\n",
       "    <tr>\n",
       "      <td>8</td>\n",
       "      <td>Kentucky</td>\n",
       "      <td>79</td>\n",
       "      <td>55</td>\n",
       "      <td>3.15</td>\n",
       "      <td>Sep</td>\n",
       "    </tr>\n",
       "    <tr>\n",
       "      <td>9</td>\n",
       "      <td>Kentucky</td>\n",
       "      <td>68</td>\n",
       "      <td>42</td>\n",
       "      <td>2.68</td>\n",
       "      <td>Oct</td>\n",
       "    </tr>\n",
       "    <tr>\n",
       "      <td>10</td>\n",
       "      <td>Kentucky</td>\n",
       "      <td>55</td>\n",
       "      <td>34</td>\n",
       "      <td>3.35</td>\n",
       "      <td>Nov</td>\n",
       "    </tr>\n",
       "    <tr>\n",
       "      <td>11</td>\n",
       "      <td>Kentucky</td>\n",
       "      <td>44</td>\n",
       "      <td>26</td>\n",
       "      <td>3.7</td>\n",
       "      <td>Dec</td>\n",
       "    </tr>\n",
       "  </tbody>\n",
       "</table>\n",
       "</div>"
      ],
      "text/plain": [
       "        name avg_high avg_low avg_prec Month\n",
       "0   Kentucky       40      21     3.15   Jan\n",
       "1   Kentucky       45      23     3.07   Feb\n",
       "2   Kentucky       55      31     4.06   Mar\n",
       "3   Kentucky       66      39     3.66   Apr\n",
       "4   Kentucky       75      49     4.61   May\n",
       "5   Kentucky       83      59     4.41   Jun\n",
       "6   Kentucky       87      63     4.17   Jul\n",
       "7   Kentucky       86      62     3.58   Aug\n",
       "8   Kentucky       79      55     3.15   Sep\n",
       "9   Kentucky       68      42     2.68   Oct\n",
       "10  Kentucky       55      34     3.35   Nov\n",
       "11  Kentucky       44      26      3.7   Dec"
      ]
     },
     "execution_count": 34,
     "metadata": {},
     "output_type": "execute_result"
    }
   ],
   "source": [
    "state_dict = {'name': 'Kentucky', 'avg_high': avg_high, 'avg_low' : avg_low, 'avg_prec': avg_prec, 'Month': arr_month}\n",
    "df = pd.DataFrame(state_dict)\n",
    "df"
   ]
  },
  {
   "cell_type": "code",
   "execution_count": 35,
   "metadata": {},
   "outputs": [],
   "source": [
    "def pull_state_data(state_url, state_name):\n",
    "    print(state_url)\n",
    "    print(state_name)\n",
    "    browser.visit(state_url)\n",
    "    htmlState = browser.html\n",
    "    soupState = BeautifulSoup(htmlState, 'html.parser')\n",
    "    # climate_table = soupState.find_one('div', class_='climate_table')\n",
    "    climate_table = soupState.find('div', id='climate_table')\n",
    "    tables = climate_table.find_all('table')\n",
    "    # tables[0].find_all('tr')[1].find_all('td')\n",
    " \n",
    " # loop over to get the Average High   \n",
    "    avg_high = []\n",
    "    indx = 0\n",
    "    for td in tables[0].find_all('tr')[1].find_all('td'):\n",
    "        if (indx > 0):\n",
    "            temp_high = td.text\n",
    "            avg_high.append(temp_high)\n",
    "        indx = indx + 1\n",
    "    indx = 0\n",
    "    for td in tables[1].find_all('tr')[1].find_all('td'):\n",
    "        if (indx > 0):\n",
    "            temp_high = td.text\n",
    "            avg_high.append(temp_high)\n",
    "        indx = indx + 1\n",
    "    # avg_high\n",
    "\n",
    " # loop over to get the Average Low  \n",
    "    avg_low = []\n",
    "    indx = 0\n",
    "    for td in tables[0].find_all('tr')[2].find_all('td'):\n",
    "        if (indx > 0):\n",
    "            temp_low = td.text\n",
    "            avg_low.append(temp_low)\n",
    "        indx = indx + 1\n",
    "    # avg_low\n",
    "    indx = 0\n",
    "    for td in tables[1].find_all('tr')[2].find_all('td'):\n",
    "        if (indx > 0):\n",
    "            temp_low = td.text\n",
    "            avg_low.append(temp_low)\n",
    "        indx = indx + 1\n",
    "    # avg_low\n",
    "    \n",
    " # loop over to get the Average Precipitation  \n",
    "    avg_prec = []\n",
    "    indx = 0\n",
    "    for td in tables[0].find_all('tr')[3].find_all('td'):\n",
    "        if (indx > 0):\n",
    "            prec = td.text\n",
    "            avg_prec.append(prec)\n",
    "        indx = indx + 1\n",
    "    indx = 0\n",
    "    for td in tables[1].find_all('tr')[3].find_all('td'):\n",
    "        if (indx > 0):\n",
    "            prec = td.text\n",
    "            avg_prec.append(prec)\n",
    "        indx = indx + 1\n",
    "    # avg_prec\n",
    "    \n",
    " # loop over to get all the Months \n",
    "    arr_month = []\n",
    "    indx = 0\n",
    "    for td in tables[0].find_all('tr')[0].find_all('th'):\n",
    "        if (indx > 0):\n",
    "            mont = td.text\n",
    "            arr_month.append(mont)\n",
    "        indx = indx + 1\n",
    "    indx = 0\n",
    "    for td in tables[1].find_all('tr')[0].find_all('th'):\n",
    "        if (indx > 0):\n",
    "            mont = td.text\n",
    "            arr_month.append(mont)\n",
    "        indx = indx + 1\n",
    "    # arr_month\n",
    "    state_dict = {'name': state_name, 'avg_high': avg_high, 'avg_low' : avg_low, 'avg_prec': avg_prec, 'Month': arr_month}\n",
    "#     print(state_dict)\n",
    "    return state_dict\n"
   ]
  },
  {
   "cell_type": "code",
   "execution_count": 36,
   "metadata": {},
   "outputs": [
    {
     "name": "stdout",
     "output_type": "stream",
     "text": [
      "/climate/alabama/united-states/3170\n",
      "https://www.usclimatedata.com//climate/alabama/united-states/3170\n",
      "Alabama\n",
      "/climate/kentucky/united-states/3187\n",
      "https://www.usclimatedata.com//climate/kentucky/united-states/3187\n",
      "Kentucky\n",
      "/climate/north-dakota/united-states/3204\n",
      "https://www.usclimatedata.com//climate/north-dakota/united-states/3204\n",
      "North Dakota\n",
      "/climate/alaska/united-states/3171\n",
      "https://www.usclimatedata.com//climate/alaska/united-states/3171\n",
      "Alaska\n",
      "/climate/louisiana/united-states/3188\n",
      "https://www.usclimatedata.com//climate/louisiana/united-states/3188\n",
      "Louisiana\n",
      "/climate/ohio/united-states/3205\n",
      "https://www.usclimatedata.com//climate/ohio/united-states/3205\n",
      "Ohio\n",
      "/climate/arizona/united-states/3172\n",
      "https://www.usclimatedata.com//climate/arizona/united-states/3172\n",
      "Arizona\n",
      "/climate/maine/united-states/3189\n",
      "https://www.usclimatedata.com//climate/maine/united-states/3189\n",
      "Maine\n",
      "/climate/oklahoma/united-states/3206\n",
      "https://www.usclimatedata.com//climate/oklahoma/united-states/3206\n",
      "Oklahoma\n",
      "/climate/arkansas/united-states/3173\n",
      "https://www.usclimatedata.com//climate/arkansas/united-states/3173\n",
      "Arkansas\n",
      "/climate/maryland/united-states/1872\n",
      "https://www.usclimatedata.com//climate/maryland/united-states/1872\n",
      "Maryland\n",
      "/climate/oregon/united-states/3207\n",
      "https://www.usclimatedata.com//climate/oregon/united-states/3207\n",
      "Oregon\n",
      "/climate/california/united-states/3174\n",
      "https://www.usclimatedata.com//climate/california/united-states/3174\n",
      "California\n",
      "/climate/massachusetts/united-states/3191\n",
      "https://www.usclimatedata.com//climate/massachusetts/united-states/3191\n",
      "Massachusetts\n",
      "/climate/pennsylvania/united-states/3208\n",
      "https://www.usclimatedata.com//climate/pennsylvania/united-states/3208\n",
      "Pennsylvania\n",
      "/climate/colorado/united-states/3175\n",
      "https://www.usclimatedata.com//climate/colorado/united-states/3175\n",
      "Colorado\n",
      "/climate/michigan/united-states/3192\n",
      "https://www.usclimatedata.com//climate/michigan/united-states/3192\n",
      "Michigan\n",
      "/climate/rhode-island/united-states/3209\n",
      "https://www.usclimatedata.com//climate/rhode-island/united-states/3209\n",
      "Rhode Island\n",
      "/climate/connecticut/united-states/3176\n",
      "https://www.usclimatedata.com//climate/connecticut/united-states/3176\n",
      "Connecticut\n",
      "/climate/minnesota/united-states/3193\n",
      "https://www.usclimatedata.com//climate/minnesota/united-states/3193\n",
      "Minnesota\n",
      "/climate/south-carolina/united-states/3210\n",
      "https://www.usclimatedata.com//climate/south-carolina/united-states/3210\n",
      "South Carolina\n",
      "/climate/delaware/united-states/3177\n",
      "https://www.usclimatedata.com//climate/delaware/united-states/3177\n",
      "Delaware\n",
      "/climate/mississippi/united-states/3194\n",
      "https://www.usclimatedata.com//climate/mississippi/united-states/3194\n",
      "Mississippi\n",
      "/climate/south-dakota/united-states/3211\n",
      "https://www.usclimatedata.com//climate/south-dakota/united-states/3211\n",
      "South Dakota\n",
      "/climate/district-of-columbia/united-states/3178\n",
      "https://www.usclimatedata.com//climate/district-of-columbia/united-states/3178\n",
      "District of Columbia\n",
      "/climate/missouri/united-states/3195\n",
      "https://www.usclimatedata.com//climate/missouri/united-states/3195\n",
      "Missouri\n",
      "/climate/tennessee/united-states/3212\n",
      "https://www.usclimatedata.com//climate/tennessee/united-states/3212\n",
      "Tennessee\n",
      "/climate/florida/united-states/3179\n",
      "https://www.usclimatedata.com//climate/florida/united-states/3179\n",
      "Florida\n",
      "/climate/montana/united-states/919\n",
      "https://www.usclimatedata.com//climate/montana/united-states/919\n",
      "Montana\n",
      "/climate/texas/united-states/3213\n",
      "https://www.usclimatedata.com//climate/texas/united-states/3213\n",
      "Texas\n",
      "/climate/georgia/united-states/3180\n",
      "https://www.usclimatedata.com//climate/georgia/united-states/3180\n",
      "Georgia\n",
      "/climate/nebraska/united-states/3197\n",
      "https://www.usclimatedata.com//climate/nebraska/united-states/3197\n",
      "Nebraska\n",
      "/climate/utah/united-states/3214\n",
      "https://www.usclimatedata.com//climate/utah/united-states/3214\n",
      "Utah\n",
      "/climate/hawaii/united-states/3181\n",
      "https://www.usclimatedata.com//climate/hawaii/united-states/3181\n",
      "Hawaii\n",
      "/climate/nevada/united-states/3198\n",
      "https://www.usclimatedata.com//climate/nevada/united-states/3198\n",
      "Nevada\n",
      "/climate/vermont/united-states/3215\n",
      "https://www.usclimatedata.com//climate/vermont/united-states/3215\n",
      "Vermont\n",
      "/climate/idaho/united-states/3182\n",
      "https://www.usclimatedata.com//climate/idaho/united-states/3182\n",
      "Idaho\n",
      "/climate/new-hampshire/united-states/3199\n",
      "https://www.usclimatedata.com//climate/new-hampshire/united-states/3199\n",
      "New Hampshire\n",
      "/climate/virginia/united-states/3216\n",
      "https://www.usclimatedata.com//climate/virginia/united-states/3216\n",
      "Virginia\n",
      "/climate/illinois/united-states/3183\n",
      "https://www.usclimatedata.com//climate/illinois/united-states/3183\n",
      "Illinois\n",
      "/climate/new-jersey/united-states/3200\n",
      "https://www.usclimatedata.com//climate/new-jersey/united-states/3200\n",
      "New Jersey\n",
      "/climate/washington/united-states/3217\n",
      "https://www.usclimatedata.com//climate/washington/united-states/3217\n",
      "Washington\n",
      "/climate/indiana/united-states/3184\n",
      "https://www.usclimatedata.com//climate/indiana/united-states/3184\n",
      "Indiana\n",
      "/climate/new-mexico/united-states/3201\n",
      "https://www.usclimatedata.com//climate/new-mexico/united-states/3201\n",
      "New Mexico\n",
      "/climate/west-virginia/united-states/3218\n",
      "https://www.usclimatedata.com//climate/west-virginia/united-states/3218\n",
      "West Virginia\n",
      "/climate/iowa/united-states/3185\n",
      "https://www.usclimatedata.com//climate/iowa/united-states/3185\n",
      "Iowa\n",
      "/climate/new-york/united-states/3202\n",
      "https://www.usclimatedata.com//climate/new-york/united-states/3202\n",
      "New York\n",
      "/climate/wisconsin/united-states/3219\n",
      "https://www.usclimatedata.com//climate/wisconsin/united-states/3219\n",
      "Wisconsin\n",
      "/climate/kansas/united-states/3186\n",
      "https://www.usclimatedata.com//climate/kansas/united-states/3186\n",
      "Kansas\n",
      "/climate/north-carolina/united-states/3203\n",
      "https://www.usclimatedata.com//climate/north-carolina/united-states/3203\n",
      "North Carolina\n",
      "/climate/wyoming/united-states/3220\n",
      "https://www.usclimatedata.com//climate/wyoming/united-states/3220\n",
      "Wyoming\n"
     ]
    },
    {
     "data": {
      "text/html": [
       "<div>\n",
       "<style scoped>\n",
       "    .dataframe tbody tr th:only-of-type {\n",
       "        vertical-align: middle;\n",
       "    }\n",
       "\n",
       "    .dataframe tbody tr th {\n",
       "        vertical-align: top;\n",
       "    }\n",
       "\n",
       "    .dataframe thead th {\n",
       "        text-align: right;\n",
       "    }\n",
       "</style>\n",
       "<table border=\"1\" class=\"dataframe\">\n",
       "  <thead>\n",
       "    <tr style=\"text-align: right;\">\n",
       "      <th></th>\n",
       "      <th>name</th>\n",
       "      <th>avg_high</th>\n",
       "      <th>avg_low</th>\n",
       "      <th>avg_prec</th>\n",
       "      <th>Month</th>\n",
       "    </tr>\n",
       "  </thead>\n",
       "  <tbody>\n",
       "    <tr>\n",
       "      <td>0</td>\n",
       "      <td>Alabama</td>\n",
       "      <td>57</td>\n",
       "      <td>36</td>\n",
       "      <td>4.65</td>\n",
       "      <td>Jan</td>\n",
       "    </tr>\n",
       "    <tr>\n",
       "      <td>1</td>\n",
       "      <td>Alabama</td>\n",
       "      <td>62</td>\n",
       "      <td>39</td>\n",
       "      <td>5.28</td>\n",
       "      <td>Feb</td>\n",
       "    </tr>\n",
       "    <tr>\n",
       "      <td>2</td>\n",
       "      <td>Alabama</td>\n",
       "      <td>70</td>\n",
       "      <td>45</td>\n",
       "      <td>5.94</td>\n",
       "      <td>Mar</td>\n",
       "    </tr>\n",
       "    <tr>\n",
       "      <td>3</td>\n",
       "      <td>Alabama</td>\n",
       "      <td>77</td>\n",
       "      <td>52</td>\n",
       "      <td>4.02</td>\n",
       "      <td>Apr</td>\n",
       "    </tr>\n",
       "    <tr>\n",
       "      <td>4</td>\n",
       "      <td>Alabama</td>\n",
       "      <td>84</td>\n",
       "      <td>61</td>\n",
       "      <td>3.54</td>\n",
       "      <td>May</td>\n",
       "    </tr>\n",
       "    <tr>\n",
       "      <td>...</td>\n",
       "      <td>...</td>\n",
       "      <td>...</td>\n",
       "      <td>...</td>\n",
       "      <td>...</td>\n",
       "      <td>...</td>\n",
       "    </tr>\n",
       "    <tr>\n",
       "      <td>7</td>\n",
       "      <td>Wyoming</td>\n",
       "      <td>81</td>\n",
       "      <td>54</td>\n",
       "      <td>1.93</td>\n",
       "      <td>Aug</td>\n",
       "    </tr>\n",
       "    <tr>\n",
       "      <td>8</td>\n",
       "      <td>Wyoming</td>\n",
       "      <td>72</td>\n",
       "      <td>45</td>\n",
       "      <td>1.46</td>\n",
       "      <td>Sep</td>\n",
       "    </tr>\n",
       "    <tr>\n",
       "      <td>9</td>\n",
       "      <td>Wyoming</td>\n",
       "      <td>59</td>\n",
       "      <td>34</td>\n",
       "      <td>0.91</td>\n",
       "      <td>Oct</td>\n",
       "    </tr>\n",
       "    <tr>\n",
       "      <td>10</td>\n",
       "      <td>Wyoming</td>\n",
       "      <td>47</td>\n",
       "      <td>24</td>\n",
       "      <td>0.55</td>\n",
       "      <td>Nov</td>\n",
       "    </tr>\n",
       "    <tr>\n",
       "      <td>11</td>\n",
       "      <td>Wyoming</td>\n",
       "      <td>38</td>\n",
       "      <td>17</td>\n",
       "      <td>0.47</td>\n",
       "      <td>Dec</td>\n",
       "    </tr>\n",
       "  </tbody>\n",
       "</table>\n",
       "<p>612 rows × 5 columns</p>\n",
       "</div>"
      ],
      "text/plain": [
       "       name avg_high avg_low avg_prec Month\n",
       "0   Alabama       57      36     4.65   Jan\n",
       "1   Alabama       62      39     5.28   Feb\n",
       "2   Alabama       70      45     5.94   Mar\n",
       "3   Alabama       77      52     4.02   Apr\n",
       "4   Alabama       84      61     3.54   May\n",
       "..      ...      ...     ...      ...   ...\n",
       "7   Wyoming       81      54     1.93   Aug\n",
       "8   Wyoming       72      45     1.46   Sep\n",
       "9   Wyoming       59      34     0.91   Oct\n",
       "10  Wyoming       47      24     0.55   Nov\n",
       "11  Wyoming       38      17     0.47   Dec\n",
       "\n",
       "[612 rows x 5 columns]"
      ]
     },
     "execution_count": 36,
     "metadata": {},
     "output_type": "execute_result"
    }
   ],
   "source": [
    "states_data = []\n",
    "dfAll = pd.DataFrame()\n",
    "\n",
    "for state in states:\n",
    "    print(state['href'])\n",
    "#     if (state['href'] == '/climate/kentucky/united-states/3187'):\n",
    "    state_dict = pull_state_data(url + state['href'], state.text)\n",
    "#     print(state_dict)\n",
    "    time.sleep(5)\n",
    "    dfAll = dfAll.append(pd.DataFrame(state_dict))\n",
    "        \n",
    "# dfAll = pd.DataFrame(states_data)\n",
    "dfAll"
   ]
  },
  {
   "cell_type": "code",
   "execution_count": 37,
   "metadata": {},
   "outputs": [],
   "source": [
    "dfAll.to_csv(\"../static/state_temprature.csv\", index=False)"
   ]
  },
  {
   "cell_type": "code",
   "execution_count": null,
   "metadata": {},
   "outputs": [],
   "source": []
  },
  {
   "cell_type": "code",
   "execution_count": null,
   "metadata": {},
   "outputs": [],
   "source": []
  }
 ],
 "metadata": {
  "kernelspec": {
   "display_name": "Python 3",
   "language": "python",
   "name": "python3"
  },
  "language_info": {
   "codemirror_mode": {
    "name": "ipython",
    "version": 3
   },
   "file_extension": ".py",
   "mimetype": "text/x-python",
   "name": "python",
   "nbconvert_exporter": "python",
   "pygments_lexer": "ipython3",
   "version": "3.7.4"
  },
  "varInspector": {
   "cols": {
    "lenName": 16,
    "lenType": 16,
    "lenVar": 40
   },
   "kernels_config": {
    "python": {
     "delete_cmd_postfix": "",
     "delete_cmd_prefix": "del ",
     "library": "var_list.py",
     "varRefreshCmd": "print(var_dic_list())"
    },
    "r": {
     "delete_cmd_postfix": ") ",
     "delete_cmd_prefix": "rm(",
     "library": "var_list.r",
     "varRefreshCmd": "cat(var_dic_list()) "
    }
   },
   "types_to_exclude": [
    "module",
    "function",
    "builtin_function_or_method",
    "instance",
    "_Feature"
   ],
   "window_display": false
  }
 },
 "nbformat": 4,
 "nbformat_minor": 4
}
