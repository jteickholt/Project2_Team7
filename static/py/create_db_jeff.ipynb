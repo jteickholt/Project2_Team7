{
 "cells": [
  {
   "cell_type": "code",
   "execution_count": 23,
   "metadata": {},
   "outputs": [],
   "source": [
    "#store the data we get as a dataframe\n",
    "import pandas as pd\n",
    "\n",
    "#convert the response as a strcuctured json\n",
    "import json\n",
    "\n",
    "#mathematical operations on lists\n",
    "import numpy as np\n",
    "\n",
    "import os\n",
    "\n",
    "# Imports the method used to connect to DBs\n",
    "from sqlalchemy import create_engine\n",
    "\n",
    "# Imports the methods needed to abstract python classes into database tables\n",
    "from sqlalchemy.ext.declarative import declarative_base\n",
    "Base = declarative_base()\n",
    "\n",
    "# function to establish a session with a connected database\n",
    "from sqlalchemy.orm import Session\n",
    "\n",
    "# database compliant datatypes\n",
    "from sqlalchemy import Column, Integer, String, Float "
   ]
  },
  {
   "cell_type": "markdown",
   "metadata": {},
   "source": [
    "### Below I bring in the different dataframes.  Some column names need to be adjusted because postgres doesn't like the special characters"
   ]
  },
  {
   "cell_type": "code",
   "execution_count": 24,
   "metadata": {},
   "outputs": [
    {
     "name": "stdout",
     "output_type": "stream",
     "text": [
      "['geo_id' 'total_workers' 'male_workers' 'female_workers' 'private_auto'\n",
      " 'public_transport' 'walks' 'bike' 'other' 'works_home' 'median_income'\n",
      " 'mean_income' 'unemployment_rate' 'city_code' 'population' 'city'\n",
      " 'state_abbr' 'city_state' 'total_population_over_25_years_old'\n",
      " 'less_than_9th_grade' '9th_to_12th_no_diploma' 'high_school_diploma'\n",
      " 'some_college_no_degree' 'associate_degree' 'bachelor_degree'\n",
      " 'graduate_proffesional_degree' 'high_school_graduate_or_higher'\n",
      " 'bachelor_degree_or_higher' 'white' 'black_african_american'\n",
      " 'american_indian_alaska_native' 'asian' 'some_other_race'\n",
      " 'hispanic_latino' 'median_value']\n"
     ]
    },
    {
     "data": {
      "text/plain": [
       "(519, 35)"
      ]
     },
     "execution_count": 24,
     "metadata": {},
     "output_type": "execute_result"
    }
   ],
   "source": [
    "# define path to the city level data\n",
    "\n",
    "city_file=os.path.join('..','data','cleaned','master_city_data.csv')\n",
    "\n",
    "# read in the city level data\n",
    "\n",
    "city=pd.read_csv(city_file)\n",
    "\n",
    "city_df=pd.DataFrame(city)\n",
    "\n",
    "# postgres didn't like capital letters or special characters in field names, so renaming\n",
    "\n",
    "city_df=city_df.rename(columns={'GEO_ID' : 'geo_id','Total_Workers' : 'total_workers','Male_Workers' : 'male_workers', \n",
    "                 'Female_Workers' : 'female_workers','Private_Auto' : 'private_auto','Public_Transport' : 'public_transport',\n",
    "                 'Walks' : 'walks','Bike' : 'bike' , 'Other': 'other',  'Works_Home' : 'works_home', \n",
    "                 'Median_Income' : 'median_income','Mean_Income' : 'mean_income',  'Unemployment_Rate' : 'unemployment_rate', \n",
    "                 'City_Code' : 'city_code',  'Population': 'population', 'City' : 'city','State_Abbr' : 'state_abbr',  \n",
    "                 'City_State' : 'city_state',\n",
    "                 'Total_Population over 25 years old' : 'total_population_over_25_years_old', \n",
    "                 'Less than 9th Grade' : 'less_than_9th_grade' ,'9th to 12th (no diploma)' : '9th_to_12th_no_diploma' ,\n",
    "                 'High School Diploma' : 'high_school_diploma' ,'Some College (no degree)' : 'some_college_no_degree' ,\n",
    "                 'Associate Degree' : 'associate_degree' ,'Bachelor Degree' :'bachelor_degree' ,\n",
    "                 'Graduate/Proffesional Degree' : 'graduate_proffesional_degree', \n",
    "                 'High School Graduate or Higher' : 'high_school_graduate_or_higher',\n",
    "                 'Bachelor Degree or Higher' : 'bachelor_degree_or_higher','White' : 'white',\n",
    "                 'Black/African American' : 'black_african_american', \n",
    "                 'American Indian & Alaska Native' : 'american_indian_alaska_native',\n",
    "                 'Asian' : 'asian','Some other race' : 'some_other_race','Hispanic/Latino' : 'hispanic_latino',\n",
    "                 'Median_value' : 'median_value'\n",
    "                })\n",
    "\n",
    "city_df.head()\n",
    "\n",
    "print(city_df.columns.values)\n",
    "\n",
    "city_df.shape"
   ]
  },
  {
   "cell_type": "code",
   "execution_count": 25,
   "metadata": {},
   "outputs": [
    {
     "data": {
      "text/plain": [
       "(52, 32)"
      ]
     },
     "execution_count": 25,
     "metadata": {},
     "output_type": "execute_result"
    }
   ],
   "source": [
    "# bring in state level data\n",
    "\n",
    "state_file=os.path.join('..','data','cleaned','master_state_data.csv')\n",
    "\n",
    "state=pd.read_csv(state_file)\n",
    "\n",
    "state_df=pd.DataFrame(state)\n",
    "\n",
    "\n",
    "# postgres didn't like capital letters or special characters in field names, so renaming\n",
    "# also renamed GEO_ID to avoid confusion with the city level GEO_ID\n",
    "\n",
    "state_df=state_df.rename(columns={'GEO_ID' : 'state_geo_id','Total_Workers' : 'total_workers','Male_Workers' : 'male_workers', \n",
    "                 'Female_Workers' : 'female_workers','Private_Auto' : 'private_auto','Public_Transport' : 'public_transport',\n",
    "                 'Walks' : 'walks','Bike' : 'bike' , 'Other': 'other',  'Works_Home' : 'works_home', \n",
    "                 'Median_Income' : 'median_income','Mean_Income' : 'mean_income',  'Unemployment_Rate' : 'unemployment_rate', \n",
    "                 'Population': 'population', 'State' : 'state',  \n",
    "                 'Total_Population over 25 years old' : 'total_population_over_25_years_old', \n",
    "                 'Less than 9th Grade' : 'less_than_9th_grade' ,'9th to 12th (no diploma)' : '9th_to_12th_no_diploma' ,\n",
    "                 'High School Diploma' : 'high_school_diploma' ,'Some College (no degree)' : 'some_college_no_degree' ,\n",
    "                 'Associate Degree' : 'associate_degree' ,'Bachelor Degree' :'bachelor_degree' ,\n",
    "                 'Graduate/Proffesional Degree' : 'graduate_proffesional_degree', \n",
    "                 'High School Graduate or Higher' : 'high_school_graduate_or_higher',\n",
    "                 'Bachelor Degree or Higher' : 'bachelor_degree_or_higher','White' : 'white',\n",
    "                 'Black/African American' : 'black_african_american', \n",
    "                 'American Indian & Alaska Native' : 'american_indian_alaska_native',\n",
    "                 'Asian' : 'asian','Some other race' : 'some_other_race','Hispanic/Latino' : 'hispanic_latino',\n",
    "                 'Median_value' : 'median_value'\n",
    "                })\n",
    "state_df.head()\n",
    "state_df.shape"
   ]
  },
  {
   "cell_type": "code",
   "execution_count": 26,
   "metadata": {},
   "outputs": [
    {
     "data": {
      "text/html": [
       "<div>\n",
       "<style scoped>\n",
       "    .dataframe tbody tr th:only-of-type {\n",
       "        vertical-align: middle;\n",
       "    }\n",
       "\n",
       "    .dataframe tbody tr th {\n",
       "        vertical-align: top;\n",
       "    }\n",
       "\n",
       "    .dataframe thead th {\n",
       "        text-align: right;\n",
       "    }\n",
       "</style>\n",
       "<table border=\"1\" class=\"dataframe\">\n",
       "  <thead>\n",
       "    <tr style=\"text-align: right;\">\n",
       "      <th></th>\n",
       "      <th>state</th>\n",
       "      <th>avg_high</th>\n",
       "      <th>avg_low</th>\n",
       "      <th>avg_prec</th>\n",
       "      <th>month</th>\n",
       "    </tr>\n",
       "  </thead>\n",
       "  <tbody>\n",
       "    <tr>\n",
       "      <th>0</th>\n",
       "      <td>Alabama</td>\n",
       "      <td>57</td>\n",
       "      <td>36</td>\n",
       "      <td>4.65</td>\n",
       "      <td>Jan</td>\n",
       "    </tr>\n",
       "    <tr>\n",
       "      <th>1</th>\n",
       "      <td>Alabama</td>\n",
       "      <td>62</td>\n",
       "      <td>39</td>\n",
       "      <td>5.28</td>\n",
       "      <td>Feb</td>\n",
       "    </tr>\n",
       "    <tr>\n",
       "      <th>2</th>\n",
       "      <td>Alabama</td>\n",
       "      <td>70</td>\n",
       "      <td>45</td>\n",
       "      <td>5.94</td>\n",
       "      <td>Mar</td>\n",
       "    </tr>\n",
       "    <tr>\n",
       "      <th>3</th>\n",
       "      <td>Alabama</td>\n",
       "      <td>77</td>\n",
       "      <td>52</td>\n",
       "      <td>4.02</td>\n",
       "      <td>Apr</td>\n",
       "    </tr>\n",
       "    <tr>\n",
       "      <th>4</th>\n",
       "      <td>Alabama</td>\n",
       "      <td>84</td>\n",
       "      <td>61</td>\n",
       "      <td>3.54</td>\n",
       "      <td>May</td>\n",
       "    </tr>\n",
       "  </tbody>\n",
       "</table>\n",
       "</div>"
      ],
      "text/plain": [
       "     state  avg_high  avg_low  avg_prec month\n",
       "0  Alabama        57       36      4.65   Jan\n",
       "1  Alabama        62       39      5.28   Feb\n",
       "2  Alabama        70       45      5.94   Mar\n",
       "3  Alabama        77       52      4.02   Apr\n",
       "4  Alabama        84       61      3.54   May"
      ]
     },
     "execution_count": 26,
     "metadata": {},
     "output_type": "execute_result"
    }
   ],
   "source": [
    "# bring in weathr data\n",
    "\n",
    "weather_file=os.path.join('..','data','cleaned','master_weather_data.csv')\n",
    "\n",
    "weather=pd.read_csv(weather_file)\n",
    "\n",
    "weather_df=pd.DataFrame(weather)\n",
    "\n",
    "# postgres doesn't like capital letters in field names, so renaming\n",
    "\n",
    "weather_df=weather_df.rename(columns={'State': 'state', 'Month': 'month'})\n",
    "\n",
    "weather_df.head()"
   ]
  },
  {
   "cell_type": "code",
   "execution_count": 27,
   "metadata": {},
   "outputs": [
    {
     "data": {
      "text/html": [
       "<div>\n",
       "<style scoped>\n",
       "    .dataframe tbody tr th:only-of-type {\n",
       "        vertical-align: middle;\n",
       "    }\n",
       "\n",
       "    .dataframe tbody tr th {\n",
       "        vertical-align: top;\n",
       "    }\n",
       "\n",
       "    .dataframe thead th {\n",
       "        text-align: right;\n",
       "    }\n",
       "</style>\n",
       "<table border=\"1\" class=\"dataframe\">\n",
       "  <thead>\n",
       "    <tr style=\"text-align: right;\">\n",
       "      <th></th>\n",
       "      <th>state</th>\n",
       "      <th>state_abbr</th>\n",
       "    </tr>\n",
       "  </thead>\n",
       "  <tbody>\n",
       "    <tr>\n",
       "      <th>0</th>\n",
       "      <td>Alabama</td>\n",
       "      <td>AL</td>\n",
       "    </tr>\n",
       "    <tr>\n",
       "      <th>1</th>\n",
       "      <td>Alaska</td>\n",
       "      <td>AK</td>\n",
       "    </tr>\n",
       "    <tr>\n",
       "      <th>2</th>\n",
       "      <td>Arizona</td>\n",
       "      <td>AZ</td>\n",
       "    </tr>\n",
       "    <tr>\n",
       "      <th>3</th>\n",
       "      <td>Arkansas</td>\n",
       "      <td>AR</td>\n",
       "    </tr>\n",
       "    <tr>\n",
       "      <th>4</th>\n",
       "      <td>California</td>\n",
       "      <td>CA</td>\n",
       "    </tr>\n",
       "  </tbody>\n",
       "</table>\n",
       "</div>"
      ],
      "text/plain": [
       "        state state_abbr\n",
       "0     Alabama         AL\n",
       "1      Alaska         AK\n",
       "2     Arizona         AZ\n",
       "3    Arkansas         AR\n",
       "4  California         CA"
      ]
     },
     "execution_count": 27,
     "metadata": {},
     "output_type": "execute_result"
    }
   ],
   "source": [
    "# bring in weathr data\n",
    "\n",
    "mapping_file=os.path.join('..','data','cleaned','master_mapping_data.csv')\n",
    "\n",
    "mapping=pd.read_csv(mapping_file)\n",
    "\n",
    "mapping_df=pd.DataFrame(mapping)\n",
    "\n",
    "# postgres doesn't like capital letter in field name, so renaming\n",
    "\n",
    "mapping_df=mapping_df.rename(columns={'State': 'state', 'State_Abbr': 'state_abbr'})\n",
    "\n",
    "mapping_df.head()"
   ]
  },
  {
   "cell_type": "markdown",
   "metadata": {},
   "source": [
    "### The next section defines the connection to the database"
   ]
  },
  {
   "cell_type": "code",
   "execution_count": 28,
   "metadata": {},
   "outputs": [],
   "source": [
    "# variables to populate the database connection string\n",
    "db_user = 'postgres'\n",
    "db_password = 'postgres'\n",
    "db_host = 'localhost'\n",
    "db_port = 5432\n",
    "\n",
    "# This database must already exist\n",
    "db_name = \"city_state_data_db\"\n",
    "\n",
    "engine = create_engine(f\"postgres://{db_user}:{db_password}@{db_host}:{db_port}/{db_name}\")"
   ]
  },
  {
   "cell_type": "code",
   "execution_count": 29,
   "metadata": {},
   "outputs": [],
   "source": [
    "Base.metadata.create_all(engine)"
   ]
  },
  {
   "cell_type": "code",
   "execution_count": 30,
   "metadata": {},
   "outputs": [],
   "source": [
    "session = Session(bind=engine)"
   ]
  },
  {
   "cell_type": "markdown",
   "metadata": {},
   "source": [
    "### Below I output the dataframes to tables in the database defined above.  If they are already there, it will replace them.  index is set to false, so the index will not be output to the table, except for the weather data where the index will be used as the primary key"
   ]
  },
  {
   "cell_type": "code",
   "execution_count": 31,
   "metadata": {},
   "outputs": [],
   "source": [
    "city_df.to_sql('city_data', engine, if_exists=\"replace\", index=False)\n",
    "with engine.connect() as con:\n",
    "    con.execute('ALTER TABLE city_data ADD PRIMARY KEY (geo_id);')"
   ]
  },
  {
   "cell_type": "code",
   "execution_count": 32,
   "metadata": {},
   "outputs": [],
   "source": [
    "state_df.to_sql('state_data', engine, if_exists=\"replace\", index=False)\n",
    "with engine.connect() as con:\n",
    "    con.execute('ALTER TABLE state_data ADD PRIMARY KEY (state_geo_id);')"
   ]
  },
  {
   "cell_type": "code",
   "execution_count": 33,
   "metadata": {},
   "outputs": [],
   "source": [
    "# Here i set index=True which will output the index which can then be used for a primary key since there is no unique value\n",
    "\n",
    "weather_df.to_sql('weather_data', engine, if_exists=\"replace\", index=True)\n",
    "with engine.connect() as con:\n",
    "    con.execute('ALTER TABLE weather_data ADD PRIMARY KEY (index);')"
   ]
  },
  {
   "cell_type": "code",
   "execution_count": 34,
   "metadata": {},
   "outputs": [],
   "source": [
    "mapping_df.to_sql('mapping_data', engine, if_exists=\"replace\", index=False)\n",
    "with engine.connect() as con:\n",
    "    con.execute('ALTER TABLE mapping_data ADD PRIMARY KEY (state);')\n"
   ]
  },
  {
   "cell_type": "code",
   "execution_count": null,
   "metadata": {},
   "outputs": [],
   "source": []
  },
  {
   "cell_type": "code",
   "execution_count": null,
   "metadata": {},
   "outputs": [],
   "source": []
  }
 ],
 "metadata": {
  "kernelspec": {
   "display_name": "Python 3",
   "language": "python",
   "name": "python3"
  },
  "language_info": {
   "codemirror_mode": {
    "name": "ipython",
    "version": 3
   },
   "file_extension": ".py",
   "mimetype": "text/x-python",
   "name": "python",
   "nbconvert_exporter": "python",
   "pygments_lexer": "ipython3",
   "version": "3.7.3"
  }
 },
 "nbformat": 4,
 "nbformat_minor": 4
}
